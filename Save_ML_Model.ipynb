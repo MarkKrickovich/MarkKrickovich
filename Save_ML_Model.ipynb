{
  "nbformat": 4,
  "nbformat_minor": 0,
  "metadata": {
    "colab": {
      "name": "Save ML Model.ipynb",
      "provenance": [],
      "collapsed_sections": [],
      "authorship_tag": "ABX9TyNlm3bLR6aREez35vYe1SEk",
      "include_colab_link": true
    },
    "kernelspec": {
      "name": "python3",
      "display_name": "Python 3"
    },
    "language_info": {
      "name": "python"
    }
  },
  "cells": [
    {
      "cell_type": "markdown",
      "metadata": {
        "id": "view-in-github",
        "colab_type": "text"
      },
      "source": [
        "<a href=\"https://colab.research.google.com/github/MarkKrickovich/MarkKrickovich/blob/main/Save_ML_Model.ipynb\" target=\"_parent\"><img src=\"https://colab.research.google.com/assets/colab-badge.svg\" alt=\"Open In Colab\"/></a>"
      ]
    },
    {
      "cell_type": "code",
      "execution_count": 20,
      "metadata": {
        "colab": {
          "base_uri": "https://localhost:8080/"
        },
        "id": "WovTfbtnS7Ru",
        "outputId": "13b6debe-39c7-493e-bb29-b15e33e8a97d"
      },
      "outputs": [
        {
          "output_type": "stream",
          "name": "stdout",
          "text": [
            "/usr/local/bin/orca: Text file busy\n",
            "Reading package lists... Done\n",
            "Building dependency tree       \n",
            "Reading state information... Done\n",
            "libgtk2.0-0 is already the newest version (2.24.32-1ubuntu1).\n",
            "libgconf-2-4 is already the newest version (3.2.6-4ubuntu1).\n",
            "xvfb is already the newest version (2:1.19.6-1ubuntu4.9).\n",
            "0 upgraded, 0 newly installed, 0 to remove and 37 not upgraded.\n"
          ]
        }
      ],
      "source": [
        "from sklearn.linear_model import LinearRegression\n",
        "import pandas as pd\n",
        "import numpy as np\n",
        "import plotly.express as px\n",
        "import plotly.graph_objects as go\n",
        "\n",
        "!wget https://github.com/plotly/orca/releases/download/v1.2.1/orca-1.2.1-x86_64.AppImage -O /usr/local/bin/orca\n",
        "!chmod +x /usr/local/bin/orca\n",
        "!apt-get install xvfb libgtk2.0-0 libgconf-2-4"
      ]
    },
    {
      "cell_type": "code",
      "source": [
        "!wget \"https://archive.org/download/ages-and-heights/AgesAndHeights.pkl\""
      ],
      "metadata": {
        "colab": {
          "base_uri": "https://localhost:8080/"
        },
        "id": "9Cr_7TvATHHT",
        "outputId": "f51981c8-16e5-4f07-857b-9db4694bca22"
      },
      "execution_count": 21,
      "outputs": [
        {
          "output_type": "stream",
          "name": "stdout",
          "text": [
            "--2021-12-15 16:40:51--  https://archive.org/download/ages-and-heights/AgesAndHeights.pkl\n",
            "Resolving archive.org (archive.org)... 207.241.224.2\n",
            "Connecting to archive.org (archive.org)|207.241.224.2|:443... connected.\n",
            "HTTP request sent, awaiting response... 302 Found\n",
            "Location: https://ia801802.us.archive.org/31/items/ages-and-heights/AgesAndHeights.pkl [following]\n",
            "--2021-12-15 16:40:51--  https://ia801802.us.archive.org/31/items/ages-and-heights/AgesAndHeights.pkl\n",
            "Resolving ia801802.us.archive.org (ia801802.us.archive.org)... 207.241.230.172\n",
            "Connecting to ia801802.us.archive.org (ia801802.us.archive.org)|207.241.230.172|:443... connected.\n",
            "HTTP request sent, awaiting response... 200 OK\n",
            "Length: 2406 (2.3K) [application/octet-stream]\n",
            "Saving to: ‘AgesAndHeights.pkl.1’\n",
            "\n",
            "AgesAndHeights.pkl. 100%[===================>]   2.35K  --.-KB/s    in 0s      \n",
            "\n",
            "2021-12-15 16:40:51 (272 MB/s) - ‘AgesAndHeights.pkl.1’ saved [2406/2406]\n",
            "\n"
          ]
        }
      ]
    },
    {
      "cell_type": "code",
      "source": [
        "data = pd.read_pickle('AgesAndHeights.pkl')\n",
        "data"
      ],
      "metadata": {
        "colab": {
          "base_uri": "https://localhost:8080/",
          "height": 424
        },
        "id": "5ZsLWISiTHTG",
        "outputId": "360deff8-fa3e-4a9b-ec6a-f9ddf5d30e34"
      },
      "execution_count": 22,
      "outputs": [
        {
          "output_type": "execute_result",
          "data": {
            "text/html": [
              "<div>\n",
              "<style scoped>\n",
              "    .dataframe tbody tr th:only-of-type {\n",
              "        vertical-align: middle;\n",
              "    }\n",
              "\n",
              "    .dataframe tbody tr th {\n",
              "        vertical-align: top;\n",
              "    }\n",
              "\n",
              "    .dataframe thead th {\n",
              "        text-align: right;\n",
              "    }\n",
              "</style>\n",
              "<table border=\"1\" class=\"dataframe\">\n",
              "  <thead>\n",
              "    <tr style=\"text-align: right;\">\n",
              "      <th></th>\n",
              "      <th>Age</th>\n",
              "      <th>Height</th>\n",
              "    </tr>\n",
              "  </thead>\n",
              "  <tbody>\n",
              "    <tr>\n",
              "      <th>0</th>\n",
              "      <td>14.767874</td>\n",
              "      <td>59.627484</td>\n",
              "    </tr>\n",
              "    <tr>\n",
              "      <th>1</th>\n",
              "      <td>3.107671</td>\n",
              "      <td>36.146453</td>\n",
              "    </tr>\n",
              "    <tr>\n",
              "      <th>2</th>\n",
              "      <td>7.266917</td>\n",
              "      <td>46.912878</td>\n",
              "    </tr>\n",
              "    <tr>\n",
              "      <th>3</th>\n",
              "      <td>1.815180</td>\n",
              "      <td>29.125660</td>\n",
              "    </tr>\n",
              "    <tr>\n",
              "      <th>4</th>\n",
              "      <td>16.753758</td>\n",
              "      <td>68.170414</td>\n",
              "    </tr>\n",
              "    <tr>\n",
              "      <th>...</th>\n",
              "      <td>...</td>\n",
              "      <td>...</td>\n",
              "    </tr>\n",
              "    <tr>\n",
              "      <th>95</th>\n",
              "      <td>7.323712</td>\n",
              "      <td>46.857505</td>\n",
              "    </tr>\n",
              "    <tr>\n",
              "      <th>96</th>\n",
              "      <td>5.591509</td>\n",
              "      <td>39.339990</td>\n",
              "    </tr>\n",
              "    <tr>\n",
              "      <th>97</th>\n",
              "      <td>2.625606</td>\n",
              "      <td>32.918925</td>\n",
              "    </tr>\n",
              "    <tr>\n",
              "      <th>98</th>\n",
              "      <td>5.519293</td>\n",
              "      <td>40.704154</td>\n",
              "    </tr>\n",
              "    <tr>\n",
              "      <th>99</th>\n",
              "      <td>13.117413</td>\n",
              "      <td>55.177407</td>\n",
              "    </tr>\n",
              "  </tbody>\n",
              "</table>\n",
              "<p>100 rows × 2 columns</p>\n",
              "</div>"
            ],
            "text/plain": [
              "          Age     Height\n",
              "0   14.767874  59.627484\n",
              "1    3.107671  36.146453\n",
              "2    7.266917  46.912878\n",
              "3    1.815180  29.125660\n",
              "4   16.753758  68.170414\n",
              "..        ...        ...\n",
              "95   7.323712  46.857505\n",
              "96   5.591509  39.339990\n",
              "97   2.625606  32.918925\n",
              "98   5.519293  40.704154\n",
              "99  13.117413  55.177407\n",
              "\n",
              "[100 rows x 2 columns]"
            ]
          },
          "metadata": {},
          "execution_count": 22
        }
      ]
    },
    {
      "cell_type": "code",
      "source": [
        "## NOTE FROM HISTOGRAM THAT NEGATIVE RESULTS ARE SHOWN.\n",
        "ages = data['Age']\n",
        "heights = data['Height']\n",
        "ages.hist()"
      ],
      "metadata": {
        "colab": {
          "base_uri": "https://localhost:8080/",
          "height": 283
        },
        "id": "DIlGRtjETHWb",
        "outputId": "5a9ead8c-9ed4-4c56-ee7b-a3602fc0171d"
      },
      "execution_count": 23,
      "outputs": [
        {
          "output_type": "execute_result",
          "data": {
            "text/plain": [
              "<matplotlib.axes._subplots.AxesSubplot at 0x7f62c2bb2950>"
            ]
          },
          "metadata": {},
          "execution_count": 23
        },
        {
          "output_type": "display_data",
          "data": {
            "image/png": "[encoded data removed]",
            "text/plain": [
              "<Figure size 432x288 with 1 Axes>"
            ]
          },
          "metadata": {
            "needs_background": "light"
          }
        }
      ]
    },
    {
      "cell_type": "code",
      "source": [
        "## DELETE NEGATIVE AGES - CHECK BOTH \n",
        "data = data[ages>0]\n",
        "#REDEFING AGES & HEIGHTS VARIABLES AFTER EXCLUDING NEGATIVES\n",
        "ages = data['Age']\n",
        "heights = data['Height']\n",
        "data.hist();"
      ],
      "metadata": {
        "colab": {
          "base_uri": "https://localhost:8080/",
          "height": 281
        },
        "id": "OK5o1ND9U1SN",
        "outputId": "e01841cc-1185-48bd-f115-0ee289378c4c"
      },
      "execution_count": 24,
      "outputs": [
        {
          "output_type": "display_data",
          "data": {
            "image/png": "[encoded data removed]",
            "text/plain": [
              "<Figure size 432x288 with 2 Axes>"
            ]
          },
          "metadata": {
            "needs_background": "light"
          }
        }
      ]
    },
    {
      "cell_type": "code",
      "source": [
        "#MAKE SCATTER PLOT TO CHECK THE DISTRIBUTION OF THE DATA\n",
        "data.plot.scatter(x='Age',y='Height');"
      ],
      "metadata": {
        "colab": {
          "base_uri": "https://localhost:8080/",
          "height": 283
        },
        "id": "SSMszRv9VCQD",
        "outputId": "856b0cf1-f593-4254-a390-c21c549282b0"
      },
      "execution_count": 25,
      "outputs": [
        {
          "output_type": "display_data",
          "data": {
            "image/png": "[encoded data removed]",
            "text/plain": [
              "<Figure size 432x288 with 1 Axes>"
            ]
          },
          "metadata": {
            "needs_background": "light"
          }
        }
      ]
    },
    {
      "cell_type": "code",
      "source": [
        "#MAKE INTERACTIVE PLOTLYT SCATTER PLOT\n",
        "fig = px.scatter(x=ages, y=heights,title=\"Ages v Heights\",labels={'x':'Age','y':'Height'})\n",
        "fig.show()                                                                     "
      ],
      "metadata": {
        "colab": {
          "base_uri": "https://localhost:8080/",
          "height": 542
        },
        "id": "VcYbvN-uVqpu",
        "outputId": "a9fdf348-28b4-49f5-9a7c-39e33b665dd1"
      },
      "execution_count": 26,
      "outputs": [
        {
          "output_type": "display_data",
          "data": {
            "text/html": [
              "<html>\n",
              "<head><meta charset=\"utf-8\" /></head>\n",
              "<body>\n",
              "    <div>\n",
              "            <script src=\"https://cdnjs.cloudflare.com/ajax/libs/mathjax/2.7.5/MathJax.js?config=TeX-AMS-MML_SVG\"></script><script type=\"text/javascript\">if (window.MathJax) {MathJax.Hub.Config({SVG: {font: \"STIX-Web\"}});}</script>\n",
              "                <script type=\"text/javascript\">window.PlotlyConfig = {MathJaxConfig: 'local'};</script>\n",
              "        <script src=\"https://cdn.plot.ly/plotly-latest.min.js\"></script>    \n",
              "            <div id=\"8c2bf3b6-37f4-4186-8674-71dec37b3555\" class=\"plotly-graph-div\" style=\"height:525px; width:100%;\"></div>\n",
              "            <script type=\"text/javascript\">\n",
              "                \n",
              "                    window.PLOTLYENV=window.PLOTLYENV || {};\n",
              "                    \n",
              "                if (document.getElementById(\"8c2bf3b6-37f4-4186-8674-71dec37b3555\")) {\n",
              "                    Plotly.newPlot(\n",
              "                        '8c2bf3b6-37f4-4186-8674-71dec37b3555',\n",
              "                        [{\"hoverlabel\": {\"namelength\": 0}, \"hovertemplate\": \"Age=%{x}<br>Height=%{y}\", \"legendgroup\": \"\", \"marker\": {\"color\": \"#636efa\", \"symbol\": \"circle\"}, \"mode\": \"markers\", \"name\": \"\", \"showlegend\": false, \"type\": \"scatter\", \"x\": [14.767873816330134, 3.1076713517926806, 7.266917014967214, 1.8151796847000568, 16.75375763212233, 5.351263070263627, 8.65571488131258, 4.205992931818387, 7.356691055541348, 1.6681781890766423, 8.296958804101257, 14.749484818021726, 15.28545214053092, 16.655341966404624, 0.8591878922479225, 8.433329991852618, 11.923861629396649, 0.7682832255446641, 11.362022540907663, 1.2959792610865637, 10.312060944157052, 17.39335272011129, 10.310030558229098, 6.237645823819146, 15.551531223270961, 2.7734642513346452, 15.597989616595418, 7.57789784291413, 2.0416570470654403, 9.906652212523257, 2.8725251472181657, 1.542319357007062, 5.462022639217886, 15.043626946933678, 5.99372596841139, 4.805291001473066, 8.949920033918836, 5.0202098458683935, 9.895552575441087, 5.20281506751851, 0.1956855835040544, 0.8921739274168923, 7.309795931984743, 10.854572296082793, 15.698764946507305, 0.8121658181275702, 15.40144746669177, 9.215999236586455, 8.985153794786697, 3.7436990638149696, 0.7519251058190364, 6.59634689654973, 9.751126830081093, 7.400945669146715, 17.327125745492236, 10.534069375945291, 15.16816596172089, 9.46971876299886, 13.546915483938882, 7.8013229390191094, 2.5191034388360367, 4.71666526014279, 10.03865950110509, 11.771254757106686, 8.537380257623587, 2.5835577078360568, 1.4380030008698512, 10.406421565420079, 16.859333323379175, 12.224651491988748, 9.514769969972079, 10.08186587226211, 8.196215267176308, 10.49687113315066, 7.2736859341792, 11.129608109471462, 1.7995937769927781, 7.789871656108959, 7.0293298525025225, 5.859180701967556, 17.343120980192833, 6.571630342923743, 15.338874260736427, 17.887851957331563, 14.274299866176817, 14.128957263342956, 11.090121111945153, 13.747867593360567, 7.323711658903526, 5.591509359604698, 2.6256058170727457, 5.519292922264258, 13.117413429777768], \"xaxis\": \"x\", \"y\": [59.627484255440905, 36.146452740444886, 46.91287845835737, 29.12565975179934, 68.17041389899816, 44.34636502739226, 47.71361294583947, 37.82994409229733, 44.79306511887925, 34.05901465899434, 46.14234544968567, 56.45678228393886, 59.87003818698533, 64.2363873620709, 34.245996432433074, 45.29759191160952, 54.75189182636372, 32.93518570708343, 51.9983700049869, 31.523500326472764, 55.704812467426514, 63.861097210924726, 52.91990510235963, 37.36102444109163, 60.23327194672566, 35.01026126326172, 59.127019311027254, 48.218468847820674, 32.562322147563314, 47.75274969209667, 36.24179871798677, 33.781758520528335, 38.28770979691895, 59.102624944746864, 43.28700253705651, 39.665424285266255, 44.95296110578905, 37.43903004904909, 52.319715368214375, 38.09928940824737, 29.508467682114567, 32.1770229138873, 42.91083707239845, 52.339572050151524, 62.64153738860418, 36.34620991034383, 62.68458016772984, 50.12874247797628, 48.01159918663291, 41.30798526124458, 31.8273468238612, 43.079024419452665, 43.03917945313444, 44.135953978002824, 65.38850138444467, 52.558743974148356, 57.54336087298846, 50.73552241825695, 56.35839211196362, 41.57647919848205, 32.302511166666385, 42.332020646759304, 49.22075916318565, 53.45369077233547, 47.80362460581466, 34.931432749251016, 29.007695669220283, 52.336935024004895, 63.38905062513939, 52.92067292795279, 51.44539695386509, 48.99409356103171, 47.33274976203938, 54.52644907063409, 46.21415636501729, 50.94870844704053, 34.24840687518276, 47.99492934931853, 41.41827568889294, 43.41211008991764, 64.30784501861878, 43.87201083591761, 60.989252739448304, 64.38621239810695, 56.3644582759043, 57.976620433447984, 53.81673812977304, 58.93595009695788, 46.85750545022212, 39.339989929943755, 32.918924839782086, 40.7041542813865, 55.17740742233581], \"yaxis\": \"y\"}],\n",
              "                        {\"legend\": {\"tracegroupgap\": 0}, \"template\": {\"data\": {\"bar\": [{\"error_x\": {\"color\": \"#2a3f5f\"}, \"error_y\": {\"color\": \"#2a3f5f\"}, \"marker\": {\"line\": {\"color\": \"#E5ECF6\", \"width\": 0.5}}, \"type\": \"bar\"}], \"barpolar\": [{\"marker\": {\"line\": {\"color\": \"#E5ECF6\", \"width\": 0.5}}, \"type\": \"barpolar\"}], \"carpet\": [{\"aaxis\": {\"endlinecolor\": \"#2a3f5f\", \"gridcolor\": \"white\", \"linecolor\": \"white\", \"minorgridcolor\": \"white\", \"startlinecolor\": \"#2a3f5f\"}, \"baxis\": {\"endlinecolor\": \"#2a3f5f\", \"gridcolor\": \"white\", \"linecolor\": \"white\", \"minorgridcolor\": \"white\", \"startlinecolor\": \"#2a3f5f\"}, \"type\": \"carpet\"}], \"choropleth\": [{\"colorbar\": {\"outlinewidth\": 0, \"ticks\": \"\"}, \"type\": \"choropleth\"}], \"contour\": [{\"colorbar\": {\"outlinewidth\": 0, \"ticks\": \"\"}, \"colorscale\": [[0.0, \"#0d0887\"], [0.1111111111111111, \"#46039f\"], [0.2222222222222222, \"#7201a8\"], [0.3333333333333333, \"#9c179e\"], [0.4444444444444444, \"#bd3786\"], [0.5555555555555556, \"#d8576b\"], [0.6666666666666666, \"#ed7953\"], [0.7777777777777778, \"#fb9f3a\"], [0.8888888888888888, \"#fdca26\"], [1.0, \"#f0f921\"]], \"type\": \"contour\"}], \"contourcarpet\": [{\"colorbar\": {\"outlinewidth\": 0, \"ticks\": \"\"}, \"type\": \"contourcarpet\"}], \"heatmap\": [{\"colorbar\": {\"outlinewidth\": 0, \"ticks\": \"\"}, \"colorscale\": [[0.0, \"#0d0887\"], [0.1111111111111111, \"#46039f\"], [0.2222222222222222, \"#7201a8\"], [0.3333333333333333, \"#9c179e\"], [0.4444444444444444, \"#bd3786\"], [0.5555555555555556, \"#d8576b\"], [0.6666666666666666, \"#ed7953\"], [0.7777777777777778, \"#fb9f3a\"], [0.8888888888888888, \"#fdca26\"], [1.0, \"#f0f921\"]], \"type\": \"heatmap\"}], \"heatmapgl\": [{\"colorbar\": {\"outlinewidth\": 0, \"ticks\": \"\"}, \"colorscale\": [[0.0, \"#0d0887\"], [0.1111111111111111, \"#46039f\"], [0.2222222222222222, \"#7201a8\"], [0.3333333333333333, \"#9c179e\"], [0.4444444444444444, \"#bd3786\"], [0.5555555555555556, \"#d8576b\"], [0.6666666666666666, \"#ed7953\"], [0.7777777777777778, \"#fb9f3a\"], [0.8888888888888888, \"#fdca26\"], [1.0, \"#f0f921\"]], \"type\": \"heatmapgl\"}], \"histogram\": [{\"marker\": {\"colorbar\": {\"outlinewidth\": 0, \"ticks\": \"\"}}, \"type\": \"histogram\"}], \"histogram2d\": [{\"colorbar\": {\"outlinewidth\": 0, \"ticks\": \"\"}, \"colorscale\": [[0.0, \"#0d0887\"], [0.1111111111111111, \"#46039f\"], [0.2222222222222222, \"#7201a8\"], [0.3333333333333333, \"#9c179e\"], [0.4444444444444444, \"#bd3786\"], [0.5555555555555556, \"#d8576b\"], [0.6666666666666666, \"#ed7953\"], [0.7777777777777778, \"#fb9f3a\"], [0.8888888888888888, \"#fdca26\"], [1.0, \"#f0f921\"]], \"type\": \"histogram2d\"}], \"histogram2dcontour\": [{\"colorbar\": {\"outlinewidth\": 0, \"ticks\": \"\"}, \"colorscale\": [[0.0, \"#0d0887\"], [0.1111111111111111, \"#46039f\"], [0.2222222222222222, \"#7201a8\"], [0.3333333333333333, \"#9c179e\"], [0.4444444444444444, \"#bd3786\"], [0.5555555555555556, \"#d8576b\"], [0.6666666666666666, \"#ed7953\"], [0.7777777777777778, \"#fb9f3a\"], [0.8888888888888888, \"#fdca26\"], [1.0, \"#f0f921\"]], \"type\": \"histogram2dcontour\"}], \"mesh3d\": [{\"colorbar\": {\"outlinewidth\": 0, \"ticks\": \"\"}, \"type\": \"mesh3d\"}], \"parcoords\": [{\"line\": {\"colorbar\": {\"outlinewidth\": 0, \"ticks\": \"\"}}, \"type\": \"parcoords\"}], \"pie\": [{\"automargin\": true, \"type\": \"pie\"}], \"scatter\": [{\"marker\": {\"colorbar\": {\"outlinewidth\": 0, \"ticks\": \"\"}}, \"type\": \"scatter\"}], \"scatter3d\": [{\"line\": {\"colorbar\": {\"outlinewidth\": 0, \"ticks\": \"\"}}, \"marker\": {\"colorbar\": {\"outlinewidth\": 0, \"ticks\": \"\"}}, \"type\": \"scatter3d\"}], \"scattercarpet\": [{\"marker\": {\"colorbar\": {\"outlinewidth\": 0, \"ticks\": \"\"}}, \"type\": \"scattercarpet\"}], \"scattergeo\": [{\"marker\": {\"colorbar\": {\"outlinewidth\": 0, \"ticks\": \"\"}}, \"type\": \"scattergeo\"}], \"scattergl\": [{\"marker\": {\"colorbar\": {\"outlinewidth\": 0, \"ticks\": \"\"}}, \"type\": \"scattergl\"}], \"scattermapbox\": [{\"marker\": {\"colorbar\": {\"outlinewidth\": 0, \"ticks\": \"\"}}, \"type\": \"scattermapbox\"}], \"scatterpolar\": [{\"marker\": {\"colorbar\": {\"outlinewidth\": 0, \"ticks\": \"\"}}, \"type\": \"scatterpolar\"}], \"scatterpolargl\": [{\"marker\": {\"colorbar\": {\"outlinewidth\": 0, \"ticks\": \"\"}}, \"type\": \"scatterpolargl\"}], \"scatterternary\": [{\"marker\": {\"colorbar\": {\"outlinewidth\": 0, \"ticks\": \"\"}}, \"type\": \"scatterternary\"}], \"surface\": [{\"colorbar\": {\"outlinewidth\": 0, \"ticks\": \"\"}, \"colorscale\": [[0.0, \"#0d0887\"], [0.1111111111111111, \"#46039f\"], [0.2222222222222222, \"#7201a8\"], [0.3333333333333333, \"#9c179e\"], [0.4444444444444444, \"#bd3786\"], [0.5555555555555556, \"#d8576b\"], [0.6666666666666666, \"#ed7953\"], [0.7777777777777778, \"#fb9f3a\"], [0.8888888888888888, \"#fdca26\"], [1.0, \"#f0f921\"]], \"type\": \"surface\"}], \"table\": [{\"cells\": {\"fill\": {\"color\": \"#EBF0F8\"}, \"line\": {\"color\": \"white\"}}, \"header\": {\"fill\": {\"color\": \"#C8D4E3\"}, \"line\": {\"color\": \"white\"}}, \"type\": \"table\"}]}, \"layout\": {\"annotationdefaults\": {\"arrowcolor\": \"#2a3f5f\", \"arrowhead\": 0, \"arrowwidth\": 1}, \"coloraxis\": {\"colorbar\": {\"outlinewidth\": 0, \"ticks\": \"\"}}, \"colorscale\": {\"diverging\": [[0, \"#8e0152\"], [0.1, \"#c51b7d\"], [0.2, \"#de77ae\"], [0.3, \"#f1b6da\"], [0.4, \"#fde0ef\"], [0.5, \"#f7f7f7\"], [0.6, \"#e6f5d0\"], [0.7, \"#b8e186\"], [0.8, \"#7fbc41\"], [0.9, \"#4d9221\"], [1, \"#276419\"]], \"sequential\": [[0.0, \"#0d0887\"], [0.1111111111111111, \"#46039f\"], [0.2222222222222222, \"#7201a8\"], [0.3333333333333333, \"#9c179e\"], [0.4444444444444444, \"#bd3786\"], [0.5555555555555556, \"#d8576b\"], [0.6666666666666666, \"#ed7953\"], [0.7777777777777778, \"#fb9f3a\"], [0.8888888888888888, \"#fdca26\"], [1.0, \"#f0f921\"]], \"sequentialminus\": [[0.0, \"#0d0887\"], [0.1111111111111111, \"#46039f\"], [0.2222222222222222, \"#7201a8\"], [0.3333333333333333, \"#9c179e\"], [0.4444444444444444, \"#bd3786\"], [0.5555555555555556, \"#d8576b\"], [0.6666666666666666, \"#ed7953\"], [0.7777777777777778, \"#fb9f3a\"], [0.8888888888888888, \"#fdca26\"], [1.0, \"#f0f921\"]]}, \"colorway\": [\"#636efa\", \"#EF553B\", \"#00cc96\", \"#ab63fa\", \"#FFA15A\", \"#19d3f3\", \"#FF6692\", \"#B6E880\", \"#FF97FF\", \"#FECB52\"], \"font\": {\"color\": \"#2a3f5f\"}, \"geo\": {\"bgcolor\": \"white\", \"lakecolor\": \"white\", \"landcolor\": \"#E5ECF6\", \"showlakes\": true, \"showland\": true, \"subunitcolor\": \"white\"}, \"hoverlabel\": {\"align\": \"left\"}, \"hovermode\": \"closest\", \"mapbox\": {\"style\": \"light\"}, \"paper_bgcolor\": \"white\", \"plot_bgcolor\": \"#E5ECF6\", \"polar\": {\"angularaxis\": {\"gridcolor\": \"white\", \"linecolor\": \"white\", \"ticks\": \"\"}, \"bgcolor\": \"#E5ECF6\", \"radialaxis\": {\"gridcolor\": \"white\", \"linecolor\": \"white\", \"ticks\": \"\"}}, \"scene\": {\"xaxis\": {\"backgroundcolor\": \"#E5ECF6\", \"gridcolor\": \"white\", \"gridwidth\": 2, \"linecolor\": \"white\", \"showbackground\": true, \"ticks\": \"\", \"zerolinecolor\": \"white\"}, \"yaxis\": {\"backgroundcolor\": \"#E5ECF6\", \"gridcolor\": \"white\", \"gridwidth\": 2, \"linecolor\": \"white\", \"showbackground\": true, \"ticks\": \"\", \"zerolinecolor\": \"white\"}, \"zaxis\": {\"backgroundcolor\": \"#E5ECF6\", \"gridcolor\": \"white\", \"gridwidth\": 2, \"linecolor\": \"white\", \"showbackground\": true, \"ticks\": \"\", \"zerolinecolor\": \"white\"}}, \"shapedefaults\": {\"line\": {\"color\": \"#2a3f5f\"}}, \"ternary\": {\"aaxis\": {\"gridcolor\": \"white\", \"linecolor\": \"white\", \"ticks\": \"\"}, \"baxis\": {\"gridcolor\": \"white\", \"linecolor\": \"white\", \"ticks\": \"\"}, \"bgcolor\": \"#E5ECF6\", \"caxis\": {\"gridcolor\": \"white\", \"linecolor\": \"white\", \"ticks\": \"\"}}, \"title\": {\"x\": 0.05}, \"xaxis\": {\"automargin\": true, \"gridcolor\": \"white\", \"linecolor\": \"white\", \"ticks\": \"\", \"title\": {\"standoff\": 15}, \"zerolinecolor\": \"white\", \"zerolinewidth\": 2}, \"yaxis\": {\"automargin\": true, \"gridcolor\": \"white\", \"linecolor\": \"white\", \"ticks\": \"\", \"title\": {\"standoff\": 15}, \"zerolinecolor\": \"white\", \"zerolinewidth\": 2}}}, \"title\": {\"text\": \"Ages v Heights\"}, \"xaxis\": {\"anchor\": \"y\", \"domain\": [0.0, 1.0], \"title\": {\"text\": \"Age\"}}, \"yaxis\": {\"anchor\": \"x\", \"domain\": [0.0, 1.0], \"title\": {\"text\": \"Height\"}}},\n",
              "                        {\"responsive\": true}\n",
              "                    ).then(function(){\n",
              "                            \n",
              "var gd = document.getElementById('8c2bf3b6-37f4-4186-8674-71dec37b3555');\n",
              "var x = new MutationObserver(function (mutations, observer) {{\n",
              "        var display = window.getComputedStyle(gd).display;\n",
              "        if (!display || display === 'none') {{\n",
              "            console.log([gd, 'removed!']);\n",
              "            Plotly.purge(gd);\n",
              "            observer.disconnect();\n",
              "        }}\n",
              "}});\n",
              "\n",
              "// Listen for the removal of the full notebook cells\n",
              "var notebookContainer = gd.closest('#notebook-container');\n",
              "if (notebookContainer) {{\n",
              "    x.observe(notebookContainer, {childList: true});\n",
              "}}\n",
              "\n",
              "// Listen for the clearing of the current output cell\n",
              "var outputEl = gd.closest('.output');\n",
              "if (outputEl) {{\n",
              "    x.observe(outputEl, {childList: true});\n",
              "}}\n",
              "\n",
              "                        })\n",
              "                };\n",
              "                \n",
              "            </script>\n",
              "        </div>\n",
              "</body>\n",
              "</html>"
            ]
          },
          "metadata": {}
        }
      ]
    },
    {
      "cell_type": "code",
      "source": [
        "#CONVERT VARIABLES TO NUMPY BC SCIKIT LEARN'S LINEAR REGRESSION NEEDS THEM AS NUMPY ARRAYS. \n",
        "ages_np = ages.to_numpy()\n",
        "heights_np = heights.to_numpy()\n",
        "ages_np"
      ],
      "metadata": {
        "colab": {
          "base_uri": "https://localhost:8080/"
        },
        "id": "qMZNGL0zVrWE",
        "outputId": "61d94fed-0306-4f14-c5b8-150c37250185"
      },
      "execution_count": 27,
      "outputs": [
        {
          "output_type": "execute_result",
          "data": {
            "text/plain": [
              "array([14.76787382,  3.10767135,  7.26691701,  1.81517968, 16.75375763,\n",
              "        5.35126307,  8.65571488,  4.20599293,  7.35669106,  1.66817819,\n",
              "        8.2969588 , 14.74948482, 15.28545214, 16.65534197,  0.85918789,\n",
              "        8.43332999, 11.92386163,  0.76828323, 11.36202254,  1.29597926,\n",
              "       10.31206094, 17.39335272, 10.31003056,  6.23764582, 15.55153122,\n",
              "        2.77346425, 15.59798962,  7.57789784,  2.04165705,  9.90665221,\n",
              "        2.87252515,  1.54231936,  5.46202264, 15.04362695,  5.99372597,\n",
              "        4.805291  ,  8.94992003,  5.02020985,  9.89555258,  5.20281507,\n",
              "        0.19568558,  0.89217393,  7.30979593, 10.8545723 , 15.69876495,\n",
              "        0.81216582, 15.40144747,  9.21599924,  8.98515379,  3.74369906,\n",
              "        0.75192511,  6.5963469 ,  9.75112683,  7.40094567, 17.32712575,\n",
              "       10.53406938, 15.16816596,  9.46971876, 13.54691548,  7.80132294,\n",
              "        2.51910344,  4.71666526, 10.0386595 , 11.77125476,  8.53738026,\n",
              "        2.58355771,  1.438003  , 10.40642157, 16.85933332, 12.22465149,\n",
              "        9.51476997, 10.08186587,  8.19621527, 10.49687113,  7.27368593,\n",
              "       11.12960811,  1.79959378,  7.78987166,  7.02932985,  5.8591807 ,\n",
              "       17.34312098,  6.57163034, 15.33887426, 17.88785196, 14.27429987,\n",
              "       14.12895726, 11.09012111, 13.74786759,  7.32371166,  5.59150936,\n",
              "        2.62560582,  5.51929292, 13.11741343])"
            ]
          },
          "metadata": {},
          "execution_count": 27
        }
      ]
    },
    {
      "cell_type": "code",
      "source": [
        "ages_np.shape"
      ],
      "metadata": {
        "colab": {
          "base_uri": "https://localhost:8080/"
        },
        "id": "oNIKgNskVrZX",
        "outputId": "0b3eedc0-cad6-4385-890c-a775f2b317ae"
      },
      "execution_count": 28,
      "outputs": [
        {
          "output_type": "execute_result",
          "data": {
            "text/plain": [
              "(93,)"
            ]
          },
          "metadata": {},
          "execution_count": 28
        }
      ]
    },
    {
      "cell_type": "code",
      "source": [
        "heights_np.shape"
      ],
      "metadata": {
        "colab": {
          "base_uri": "https://localhost:8080/"
        },
        "id": "KPIYP7QIdlsQ",
        "outputId": "8882e846-c92b-4a10-a059-9a8598309966"
      },
      "execution_count": 29,
      "outputs": [
        {
          "output_type": "execute_result",
          "data": {
            "text/plain": [
              "(93,)"
            ]
          },
          "metadata": {},
          "execution_count": 29
        }
      ]
    },
    {
      "cell_type": "code",
      "source": [
        "#CONVERT SHAPTE OF THE AGE VARIABLE TO ALLOW SCIKIT-LEARN TO READ X PROPERLY\n",
        "#WHICH IS INTO A MATRIX\n",
        "ages_np_reshaped = ages_np.reshape(len(ages),1)\n",
        "ages_np_reshaped"
      ],
      "metadata": {
        "colab": {
          "base_uri": "https://localhost:8080/"
        },
        "id": "KAxMd5elVqsi",
        "outputId": "6b710792-5b2b-4667-e61e-a83268eea624"
      },
      "execution_count": 30,
      "outputs": [
        {
          "output_type": "execute_result",
          "data": {
            "text/plain": [
              "array([[14.76787382],\n",
              "       [ 3.10767135],\n",
              "       [ 7.26691701],\n",
              "       [ 1.81517968],\n",
              "       [16.75375763],\n",
              "       [ 5.35126307],\n",
              "       [ 8.65571488],\n",
              "       [ 4.20599293],\n",
              "       [ 7.35669106],\n",
              "       [ 1.66817819],\n",
              "       [ 8.2969588 ],\n",
              "       [14.74948482],\n",
              "       [15.28545214],\n",
              "       [16.65534197],\n",
              "       [ 0.85918789],\n",
              "       [ 8.43332999],\n",
              "       [11.92386163],\n",
              "       [ 0.76828323],\n",
              "       [11.36202254],\n",
              "       [ 1.29597926],\n",
              "       [10.31206094],\n",
              "       [17.39335272],\n",
              "       [10.31003056],\n",
              "       [ 6.23764582],\n",
              "       [15.55153122],\n",
              "       [ 2.77346425],\n",
              "       [15.59798962],\n",
              "       [ 7.57789784],\n",
              "       [ 2.04165705],\n",
              "       [ 9.90665221],\n",
              "       [ 2.87252515],\n",
              "       [ 1.54231936],\n",
              "       [ 5.46202264],\n",
              "       [15.04362695],\n",
              "       [ 5.99372597],\n",
              "       [ 4.805291  ],\n",
              "       [ 8.94992003],\n",
              "       [ 5.02020985],\n",
              "       [ 9.89555258],\n",
              "       [ 5.20281507],\n",
              "       [ 0.19568558],\n",
              "       [ 0.89217393],\n",
              "       [ 7.30979593],\n",
              "       [10.8545723 ],\n",
              "       [15.69876495],\n",
              "       [ 0.81216582],\n",
              "       [15.40144747],\n",
              "       [ 9.21599924],\n",
              "       [ 8.98515379],\n",
              "       [ 3.74369906],\n",
              "       [ 0.75192511],\n",
              "       [ 6.5963469 ],\n",
              "       [ 9.75112683],\n",
              "       [ 7.40094567],\n",
              "       [17.32712575],\n",
              "       [10.53406938],\n",
              "       [15.16816596],\n",
              "       [ 9.46971876],\n",
              "       [13.54691548],\n",
              "       [ 7.80132294],\n",
              "       [ 2.51910344],\n",
              "       [ 4.71666526],\n",
              "       [10.0386595 ],\n",
              "       [11.77125476],\n",
              "       [ 8.53738026],\n",
              "       [ 2.58355771],\n",
              "       [ 1.438003  ],\n",
              "       [10.40642157],\n",
              "       [16.85933332],\n",
              "       [12.22465149],\n",
              "       [ 9.51476997],\n",
              "       [10.08186587],\n",
              "       [ 8.19621527],\n",
              "       [10.49687113],\n",
              "       [ 7.27368593],\n",
              "       [11.12960811],\n",
              "       [ 1.79959378],\n",
              "       [ 7.78987166],\n",
              "       [ 7.02932985],\n",
              "       [ 5.8591807 ],\n",
              "       [17.34312098],\n",
              "       [ 6.57163034],\n",
              "       [15.33887426],\n",
              "       [17.88785196],\n",
              "       [14.27429987],\n",
              "       [14.12895726],\n",
              "       [11.09012111],\n",
              "       [13.74786759],\n",
              "       [ 7.32371166],\n",
              "       [ 5.59150936],\n",
              "       [ 2.62560582],\n",
              "       [ 5.51929292],\n",
              "       [13.11741343]])"
            ]
          },
          "metadata": {},
          "execution_count": 30
        }
      ]
    },
    {
      "cell_type": "code",
      "source": [
        "ages_np_reshaped.shape"
      ],
      "metadata": {
        "colab": {
          "base_uri": "https://localhost:8080/"
        },
        "id": "kTlEjXHJpgEK",
        "outputId": "68acbd9d-a9ad-4154-b01d-bbade3b0fb2b"
      },
      "execution_count": 31,
      "outputs": [
        {
          "output_type": "execute_result",
          "data": {
            "text/plain": [
              "(93, 1)"
            ]
          },
          "metadata": {},
          "execution_count": 31
        }
      ]
    },
    {
      "cell_type": "code",
      "source": [
        "#SCIKIT LEARN SIMPLE LINEAR REGRESSION\n",
        "model = LinearRegression().fit(ages_np_reshaped,heights_np)\n",
        "#LOOK AT COEFFICIENT\n",
        "model.coef_\n",
        "#for a one unit increase (year), on average the height will increase by 2 units (inches)"
      ],
      "metadata": {
        "colab": {
          "base_uri": "https://localhost:8080/"
        },
        "id": "V5H3nadHVqxy",
        "outputId": "3c4ba960-5944-4bec-bb1f-61e538fa6971"
      },
      "execution_count": 32,
      "outputs": [
        {
          "output_type": "execute_result",
          "data": {
            "text/plain": [
              "array([2.0014169])"
            ]
          },
          "metadata": {},
          "execution_count": 32
        }
      ]
    },
    {
      "cell_type": "code",
      "source": [
        "#CREATE PLOTLY CHART:\n",
        "x_new = np.array(list(range(19))).reshape(19,1)  #MAKES A LIST OF INTEGERS 0 TO 18 \n",
        "#RESHAPE INTO NP MATRIX\n",
        "preds = model.predict(x_new)\n",
        "#CREATE PLOTLY CHART WITH A LINE\n",
        "fig = px.scatter(x=ages, y=heights,title=\"Ages v Heights\",labels={'x':'Age','y':'Height'})\n",
        "fig.add_trace(go.Scatter(x=x_new.reshape(19),y=preds, mode='lines', name='Model'))\n",
        "fig.write_image('base_pic.svg', width=800) \n",
        "fig.show()                                                                    "
      ],
      "metadata": {
        "colab": {
          "base_uri": "https://localhost:8080/",
          "height": 542
        },
        "id": "qNSvhBXIehYt",
        "outputId": "3829326f-bac3-4eab-d48b-925686226c22"
      },
      "execution_count": 33,
      "outputs": [
        {
          "output_type": "display_data",
          "data": {
            "text/html": [
              "<html>\n",
              "<head><meta charset=\"utf-8\" /></head>\n",
              "<body>\n",
              "    <div>\n",
              "            <script src=\"https://cdnjs.cloudflare.com/ajax/libs/mathjax/2.7.5/MathJax.js?config=TeX-AMS-MML_SVG\"></script><script type=\"text/javascript\">if (window.MathJax) {MathJax.Hub.Config({SVG: {font: \"STIX-Web\"}});}</script>\n",
              "                <script type=\"text/javascript\">window.PlotlyConfig = {MathJaxConfig: 'local'};</script>\n",
              "        <script src=\"https://cdn.plot.ly/plotly-latest.min.js\"></script>    \n",
              "            <div id=\"a53bc7ae-1abe-44be-b875-af7bb5c8026a\" class=\"plotly-graph-div\" style=\"height:525px; width:100%;\"></div>\n",
              "            <script type=\"text/javascript\">\n",
              "                \n",
              "                    window.PLOTLYENV=window.PLOTLYENV || {};\n",
              "                    \n",
              "                if (document.getElementById(\"a53bc7ae-1abe-44be-b875-af7bb5c8026a\")) {\n",
              "                    Plotly.newPlot(\n",
              "                        'a53bc7ae-1abe-44be-b875-af7bb5c8026a',\n",
              "                        [{\"hoverlabel\": {\"namelength\": 0}, \"hovertemplate\": \"Age=%{x}<br>Height=%{y}\", \"legendgroup\": \"\", \"marker\": {\"color\": \"#636efa\", \"symbol\": \"circle\"}, \"mode\": \"markers\", \"name\": \"\", \"showlegend\": false, \"type\": \"scatter\", \"x\": [14.767873816330134, 3.1076713517926806, 7.266917014967214, 1.8151796847000568, 16.75375763212233, 5.351263070263627, 8.65571488131258, 4.205992931818387, 7.356691055541348, 1.6681781890766423, 8.296958804101257, 14.749484818021726, 15.28545214053092, 16.655341966404624, 0.8591878922479225, 8.433329991852618, 11.923861629396649, 0.7682832255446641, 11.362022540907663, 1.2959792610865637, 10.312060944157052, 17.39335272011129, 10.310030558229098, 6.237645823819146, 15.551531223270961, 2.7734642513346452, 15.597989616595418, 7.57789784291413, 2.0416570470654403, 9.906652212523257, 2.8725251472181657, 1.542319357007062, 5.462022639217886, 15.043626946933678, 5.99372596841139, 4.805291001473066, 8.949920033918836, 5.0202098458683935, 9.895552575441087, 5.20281506751851, 0.1956855835040544, 0.8921739274168923, 7.309795931984743, 10.854572296082793, 15.698764946507305, 0.8121658181275702, 15.40144746669177, 9.215999236586455, 8.985153794786697, 3.7436990638149696, 0.7519251058190364, 6.59634689654973, 9.751126830081093, 7.400945669146715, 17.327125745492236, 10.534069375945291, 15.16816596172089, 9.46971876299886, 13.546915483938882, 7.8013229390191094, 2.5191034388360367, 4.71666526014279, 10.03865950110509, 11.771254757106686, 8.537380257623587, 2.5835577078360568, 1.4380030008698512, 10.406421565420079, 16.859333323379175, 12.224651491988748, 9.514769969972079, 10.08186587226211, 8.196215267176308, 10.49687113315066, 7.2736859341792, 11.129608109471462, 1.7995937769927781, 7.789871656108959, 7.0293298525025225, 5.859180701967556, 17.343120980192833, 6.571630342923743, 15.338874260736427, 17.887851957331563, 14.274299866176817, 14.128957263342956, 11.090121111945153, 13.747867593360567, 7.323711658903526, 5.591509359604698, 2.6256058170727457, 5.519292922264258, 13.117413429777768], \"xaxis\": \"x\", \"y\": [59.627484255440905, 36.146452740444886, 46.91287845835737, 29.12565975179934, 68.17041389899816, 44.34636502739226, 47.71361294583947, 37.82994409229733, 44.79306511887925, 34.05901465899434, 46.14234544968567, 56.45678228393886, 59.87003818698533, 64.2363873620709, 34.245996432433074, 45.29759191160952, 54.75189182636372, 32.93518570708343, 51.9983700049869, 31.523500326472764, 55.704812467426514, 63.861097210924726, 52.91990510235963, 37.36102444109163, 60.23327194672566, 35.01026126326172, 59.127019311027254, 48.218468847820674, 32.562322147563314, 47.75274969209667, 36.24179871798677, 33.781758520528335, 38.28770979691895, 59.102624944746864, 43.28700253705651, 39.665424285266255, 44.95296110578905, 37.43903004904909, 52.319715368214375, 38.09928940824737, 29.508467682114567, 32.1770229138873, 42.91083707239845, 52.339572050151524, 62.64153738860418, 36.34620991034383, 62.68458016772984, 50.12874247797628, 48.01159918663291, 41.30798526124458, 31.8273468238612, 43.079024419452665, 43.03917945313444, 44.135953978002824, 65.38850138444467, 52.558743974148356, 57.54336087298846, 50.73552241825695, 56.35839211196362, 41.57647919848205, 32.302511166666385, 42.332020646759304, 49.22075916318565, 53.45369077233547, 47.80362460581466, 34.931432749251016, 29.007695669220283, 52.336935024004895, 63.38905062513939, 52.92067292795279, 51.44539695386509, 48.99409356103171, 47.33274976203938, 54.52644907063409, 46.21415636501729, 50.94870844704053, 34.24840687518276, 47.99492934931853, 41.41827568889294, 43.41211008991764, 64.30784501861878, 43.87201083591761, 60.989252739448304, 64.38621239810695, 56.3644582759043, 57.976620433447984, 53.81673812977304, 58.93595009695788, 46.85750545022212, 39.339989929943755, 32.918924839782086, 40.7041542813865, 55.17740742233581], \"yaxis\": \"y\"}, {\"mode\": \"lines\", \"name\": \"Model\", \"type\": \"scatter\", \"x\": [0, 1, 2, 3, 4, 5, 6, 7, 8, 9, 10, 11, 12, 13, 14, 15, 16, 17, 18], \"y\": [29.961857614615838, 31.963274513526468, 33.9646914124371, 35.96610831134773, 37.96752521025836, 39.96894210916899, 41.970359008079626, 43.97177590699025, 45.97319280590088, 47.97460970481151, 49.97602660372215, 51.977443502632774, 53.97886040154341, 55.980277300454034, 57.98169419936467, 59.9831110982753, 61.98452799718593, 63.98594489609656, 65.98736179500719]}],\n",
              "                        {\"legend\": {\"tracegroupgap\": 0}, \"template\": {\"data\": {\"bar\": [{\"error_x\": {\"color\": \"#2a3f5f\"}, \"error_y\": {\"color\": \"#2a3f5f\"}, \"marker\": {\"line\": {\"color\": \"#E5ECF6\", \"width\": 0.5}}, \"type\": \"bar\"}], \"barpolar\": [{\"marker\": {\"line\": {\"color\": \"#E5ECF6\", \"width\": 0.5}}, \"type\": \"barpolar\"}], \"carpet\": [{\"aaxis\": {\"endlinecolor\": \"#2a3f5f\", \"gridcolor\": \"white\", \"linecolor\": \"white\", \"minorgridcolor\": \"white\", \"startlinecolor\": \"#2a3f5f\"}, \"baxis\": {\"endlinecolor\": \"#2a3f5f\", \"gridcolor\": \"white\", \"linecolor\": \"white\", \"minorgridcolor\": \"white\", \"startlinecolor\": \"#2a3f5f\"}, \"type\": \"carpet\"}], \"choropleth\": [{\"colorbar\": {\"outlinewidth\": 0, \"ticks\": \"\"}, \"type\": \"choropleth\"}], \"contour\": [{\"colorbar\": {\"outlinewidth\": 0, \"ticks\": \"\"}, \"colorscale\": [[0.0, \"#0d0887\"], [0.1111111111111111, \"#46039f\"], [0.2222222222222222, \"#7201a8\"], [0.3333333333333333, \"#9c179e\"], [0.4444444444444444, \"#bd3786\"], [0.5555555555555556, \"#d8576b\"], [0.6666666666666666, \"#ed7953\"], [0.7777777777777778, \"#fb9f3a\"], [0.8888888888888888, \"#fdca26\"], [1.0, \"#f0f921\"]], \"type\": \"contour\"}], \"contourcarpet\": [{\"colorbar\": {\"outlinewidth\": 0, \"ticks\": \"\"}, \"type\": \"contourcarpet\"}], \"heatmap\": [{\"colorbar\": {\"outlinewidth\": 0, \"ticks\": \"\"}, \"colorscale\": [[0.0, \"#0d0887\"], [0.1111111111111111, \"#46039f\"], [0.2222222222222222, \"#7201a8\"], [0.3333333333333333, \"#9c179e\"], [0.4444444444444444, \"#bd3786\"], [0.5555555555555556, \"#d8576b\"], [0.6666666666666666, \"#ed7953\"], [0.7777777777777778, \"#fb9f3a\"], [0.8888888888888888, \"#fdca26\"], [1.0, \"#f0f921\"]], \"type\": \"heatmap\"}], \"heatmapgl\": [{\"colorbar\": {\"outlinewidth\": 0, \"ticks\": \"\"}, \"colorscale\": [[0.0, \"#0d0887\"], [0.1111111111111111, \"#46039f\"], [0.2222222222222222, \"#7201a8\"], [0.3333333333333333, \"#9c179e\"], [0.4444444444444444, \"#bd3786\"], [0.5555555555555556, \"#d8576b\"], [0.6666666666666666, \"#ed7953\"], [0.7777777777777778, \"#fb9f3a\"], [0.8888888888888888, \"#fdca26\"], [1.0, \"#f0f921\"]], \"type\": \"heatmapgl\"}], \"histogram\": [{\"marker\": {\"colorbar\": {\"outlinewidth\": 0, \"ticks\": \"\"}}, \"type\": \"histogram\"}], \"histogram2d\": [{\"colorbar\": {\"outlinewidth\": 0, \"ticks\": \"\"}, \"colorscale\": [[0.0, \"#0d0887\"], [0.1111111111111111, \"#46039f\"], [0.2222222222222222, \"#7201a8\"], [0.3333333333333333, \"#9c179e\"], [0.4444444444444444, \"#bd3786\"], [0.5555555555555556, \"#d8576b\"], [0.6666666666666666, \"#ed7953\"], [0.7777777777777778, \"#fb9f3a\"], [0.8888888888888888, \"#fdca26\"], [1.0, \"#f0f921\"]], \"type\": \"histogram2d\"}], \"histogram2dcontour\": [{\"colorbar\": {\"outlinewidth\": 0, \"ticks\": \"\"}, \"colorscale\": [[0.0, \"#0d0887\"], [0.1111111111111111, \"#46039f\"], [0.2222222222222222, \"#7201a8\"], [0.3333333333333333, \"#9c179e\"], [0.4444444444444444, \"#bd3786\"], [0.5555555555555556, \"#d8576b\"], [0.6666666666666666, \"#ed7953\"], [0.7777777777777778, \"#fb9f3a\"], [0.8888888888888888, \"#fdca26\"], [1.0, \"#f0f921\"]], \"type\": \"histogram2dcontour\"}], \"mesh3d\": [{\"colorbar\": {\"outlinewidth\": 0, \"ticks\": \"\"}, \"type\": \"mesh3d\"}], \"parcoords\": [{\"line\": {\"colorbar\": {\"outlinewidth\": 0, \"ticks\": \"\"}}, \"type\": \"parcoords\"}], \"pie\": [{\"automargin\": true, \"type\": \"pie\"}], \"scatter\": [{\"marker\": {\"colorbar\": {\"outlinewidth\": 0, \"ticks\": \"\"}}, \"type\": \"scatter\"}], \"scatter3d\": [{\"line\": {\"colorbar\": {\"outlinewidth\": 0, \"ticks\": \"\"}}, \"marker\": {\"colorbar\": {\"outlinewidth\": 0, \"ticks\": \"\"}}, \"type\": \"scatter3d\"}], \"scattercarpet\": [{\"marker\": {\"colorbar\": {\"outlinewidth\": 0, \"ticks\": \"\"}}, \"type\": \"scattercarpet\"}], \"scattergeo\": [{\"marker\": {\"colorbar\": {\"outlinewidth\": 0, \"ticks\": \"\"}}, \"type\": \"scattergeo\"}], \"scattergl\": [{\"marker\": {\"colorbar\": {\"outlinewidth\": 0, \"ticks\": \"\"}}, \"type\": \"scattergl\"}], \"scattermapbox\": [{\"marker\": {\"colorbar\": {\"outlinewidth\": 0, \"ticks\": \"\"}}, \"type\": \"scattermapbox\"}], \"scatterpolar\": [{\"marker\": {\"colorbar\": {\"outlinewidth\": 0, \"ticks\": \"\"}}, \"type\": \"scatterpolar\"}], \"scatterpolargl\": [{\"marker\": {\"colorbar\": {\"outlinewidth\": 0, \"ticks\": \"\"}}, \"type\": \"scatterpolargl\"}], \"scatterternary\": [{\"marker\": {\"colorbar\": {\"outlinewidth\": 0, \"ticks\": \"\"}}, \"type\": \"scatterternary\"}], \"surface\": [{\"colorbar\": {\"outlinewidth\": 0, \"ticks\": \"\"}, \"colorscale\": [[0.0, \"#0d0887\"], [0.1111111111111111, \"#46039f\"], [0.2222222222222222, \"#7201a8\"], [0.3333333333333333, \"#9c179e\"], [0.4444444444444444, \"#bd3786\"], [0.5555555555555556, \"#d8576b\"], [0.6666666666666666, \"#ed7953\"], [0.7777777777777778, \"#fb9f3a\"], [0.8888888888888888, \"#fdca26\"], [1.0, \"#f0f921\"]], \"type\": \"surface\"}], \"table\": [{\"cells\": {\"fill\": {\"color\": \"#EBF0F8\"}, \"line\": {\"color\": \"white\"}}, \"header\": {\"fill\": {\"color\": \"#C8D4E3\"}, \"line\": {\"color\": \"white\"}}, \"type\": \"table\"}]}, \"layout\": {\"annotationdefaults\": {\"arrowcolor\": \"#2a3f5f\", \"arrowhead\": 0, \"arrowwidth\": 1}, \"coloraxis\": {\"colorbar\": {\"outlinewidth\": 0, \"ticks\": \"\"}}, \"colorscale\": {\"diverging\": [[0, \"#8e0152\"], [0.1, \"#c51b7d\"], [0.2, \"#de77ae\"], [0.3, \"#f1b6da\"], [0.4, \"#fde0ef\"], [0.5, \"#f7f7f7\"], [0.6, \"#e6f5d0\"], [0.7, \"#b8e186\"], [0.8, \"#7fbc41\"], [0.9, \"#4d9221\"], [1, \"#276419\"]], \"sequential\": [[0.0, \"#0d0887\"], [0.1111111111111111, \"#46039f\"], [0.2222222222222222, \"#7201a8\"], [0.3333333333333333, \"#9c179e\"], [0.4444444444444444, \"#bd3786\"], [0.5555555555555556, \"#d8576b\"], [0.6666666666666666, \"#ed7953\"], [0.7777777777777778, \"#fb9f3a\"], [0.8888888888888888, \"#fdca26\"], [1.0, \"#f0f921\"]], \"sequentialminus\": [[0.0, \"#0d0887\"], [0.1111111111111111, \"#46039f\"], [0.2222222222222222, \"#7201a8\"], [0.3333333333333333, \"#9c179e\"], [0.4444444444444444, \"#bd3786\"], [0.5555555555555556, \"#d8576b\"], [0.6666666666666666, \"#ed7953\"], [0.7777777777777778, \"#fb9f3a\"], [0.8888888888888888, \"#fdca26\"], [1.0, \"#f0f921\"]]}, \"colorway\": [\"#636efa\", \"#EF553B\", \"#00cc96\", \"#ab63fa\", \"#FFA15A\", \"#19d3f3\", \"#FF6692\", \"#B6E880\", \"#FF97FF\", \"#FECB52\"], \"font\": {\"color\": \"#2a3f5f\"}, \"geo\": {\"bgcolor\": \"white\", \"lakecolor\": \"white\", \"landcolor\": \"#E5ECF6\", \"showlakes\": true, \"showland\": true, \"subunitcolor\": \"white\"}, \"hoverlabel\": {\"align\": \"left\"}, \"hovermode\": \"closest\", \"mapbox\": {\"style\": \"light\"}, \"paper_bgcolor\": \"white\", \"plot_bgcolor\": \"#E5ECF6\", \"polar\": {\"angularaxis\": {\"gridcolor\": \"white\", \"linecolor\": \"white\", \"ticks\": \"\"}, \"bgcolor\": \"#E5ECF6\", \"radialaxis\": {\"gridcolor\": \"white\", \"linecolor\": \"white\", \"ticks\": \"\"}}, \"scene\": {\"xaxis\": {\"backgroundcolor\": \"#E5ECF6\", \"gridcolor\": \"white\", \"gridwidth\": 2, \"linecolor\": \"white\", \"showbackground\": true, \"ticks\": \"\", \"zerolinecolor\": \"white\"}, \"yaxis\": {\"backgroundcolor\": \"#E5ECF6\", \"gridcolor\": \"white\", \"gridwidth\": 2, \"linecolor\": \"white\", \"showbackground\": true, \"ticks\": \"\", \"zerolinecolor\": \"white\"}, \"zaxis\": {\"backgroundcolor\": \"#E5ECF6\", \"gridcolor\": \"white\", \"gridwidth\": 2, \"linecolor\": \"white\", \"showbackground\": true, \"ticks\": \"\", \"zerolinecolor\": \"white\"}}, \"shapedefaults\": {\"line\": {\"color\": \"#2a3f5f\"}}, \"ternary\": {\"aaxis\": {\"gridcolor\": \"white\", \"linecolor\": \"white\", \"ticks\": \"\"}, \"baxis\": {\"gridcolor\": \"white\", \"linecolor\": \"white\", \"ticks\": \"\"}, \"bgcolor\": \"#E5ECF6\", \"caxis\": {\"gridcolor\": \"white\", \"linecolor\": \"white\", \"ticks\": \"\"}}, \"title\": {\"x\": 0.05}, \"xaxis\": {\"automargin\": true, \"gridcolor\": \"white\", \"linecolor\": \"white\", \"ticks\": \"\", \"title\": {\"standoff\": 15}, \"zerolinecolor\": \"white\", \"zerolinewidth\": 2}, \"yaxis\": {\"automargin\": true, \"gridcolor\": \"white\", \"linecolor\": \"white\", \"ticks\": \"\", \"title\": {\"standoff\": 15}, \"zerolinecolor\": \"white\", \"zerolinewidth\": 2}}}, \"title\": {\"text\": \"Ages v Heights\"}, \"xaxis\": {\"anchor\": \"y\", \"domain\": [0.0, 1.0], \"title\": {\"text\": \"Age\"}}, \"yaxis\": {\"anchor\": \"x\", \"domain\": [0.0, 1.0], \"title\": {\"text\": \"Height\"}}},\n",
              "                        {\"responsive\": true}\n",
              "                    ).then(function(){\n",
              "                            \n",
              "var gd = document.getElementById('a53bc7ae-1abe-44be-b875-af7bb5c8026a');\n",
              "var x = new MutationObserver(function (mutations, observer) {{\n",
              "        var display = window.getComputedStyle(gd).display;\n",
              "        if (!display || display === 'none') {{\n",
              "            console.log([gd, 'removed!']);\n",
              "            Plotly.purge(gd);\n",
              "            observer.disconnect();\n",
              "        }}\n",
              "}});\n",
              "\n",
              "// Listen for the removal of the full notebook cells\n",
              "var notebookContainer = gd.closest('#notebook-container');\n",
              "if (notebookContainer) {{\n",
              "    x.observe(notebookContainer, {childList: true});\n",
              "}}\n",
              "\n",
              "// Listen for the clearing of the current output cell\n",
              "var outputEl = gd.closest('.output');\n",
              "if (outputEl) {{\n",
              "    x.observe(outputEl, {childList: true});\n",
              "}}\n",
              "\n",
              "                        })\n",
              "                };\n",
              "                \n",
              "            </script>\n",
              "        </div>\n",
              "</body>\n",
              "</html>"
            ]
          },
          "metadata": {}
        }
      ]
    },
    {
      "cell_type": "code",
      "source": [
        "#LOAD JOBLIB SO WE CAN SAVE IT TO A FILE (dump) AND LOAD IT FROM A FILE (load).\n",
        "#NEED TO PASS A MODEL THAT IS IN MEMORY AND A FILENAME FOLLOWED BY .joblib\n",
        "from joblib import dump,load\n",
        "load = import joblib\n",
        "joblib.dump('model','model.joblib')#SAVE THE MODEL\n"
      ],
      "metadata": {
        "colab": {
          "base_uri": "https://localhost:8080/",
          "height": 135
        },
        "id": "E_4C11YTgoqe",
        "outputId": "c9fb7439-f84f-4624-bba8-5256d3c409ec"
      },
      "execution_count": 49,
      "outputs": [
        {
          "output_type": "error",
          "ename": "SyntaxError",
          "evalue": "ignored",
          "traceback": [
            "\u001b[0;36m  File \u001b[0;32m\"<ipython-input-49-d3e33b17070f>\"\u001b[0;36m, line \u001b[0;32m4\u001b[0m\n\u001b[0;31m    load = import joblib\u001b[0m\n\u001b[0m                ^\u001b[0m\n\u001b[0;31mSyntaxError\u001b[0m\u001b[0;31m:\u001b[0m invalid syntax\n"
          ]
        }
      ]
    },
    {
      "cell_type": "code",
      "source": [
        "#LOAD FILE (MODEL)INTO MEMORY\n",
        "loaded_model = joblib.load('model.joblib')\n",
        "loaded_model"
      ],
      "metadata": {
        "colab": {
          "base_uri": "https://localhost:8080/",
          "height": 36
        },
        "id": "1Ckw3UOfgotY",
        "outputId": "08962ec1-bfae-453c-eacd-81262fb67814"
      },
      "execution_count": 46,
      "outputs": [
        {
          "output_type": "execute_result",
          "data": {
            "application/vnd.google.colaboratory.intrinsic+json": {
              "type": "string"
            },
            "text/plain": [
              "'model'"
            ]
          },
          "metadata": {},
          "execution_count": 46
        }
      ]
    },
    {
      "cell_type": "code",
      "source": [
        "#MAKE A PREDICTION TO TEST THE DUMP AND LOAD PROCESS\n",
        "model.predict(np.array([[17]]))"
      ],
      "metadata": {
        "colab": {
          "base_uri": "https://localhost:8080/"
        },
        "id": "fDgu20phgowA",
        "outputId": "211462ac-e875-43d5-c5c7-65a788955f5f"
      },
      "execution_count": 47,
      "outputs": [
        {
          "output_type": "execute_result",
          "data": {
            "text/plain": [
              "array([63.9859449])"
            ]
          },
          "metadata": {},
          "execution_count": 47
        }
      ]
    },
    {
      "cell_type": "markdown",
      "source": [
        "# New Section"
      ],
      "metadata": {
        "id": "Lo-jIkOy-Fkr"
      }
    },
    {
      "cell_type": "code",
      "source": [
        "model"
      ],
      "metadata": {
        "colab": {
          "base_uri": "https://localhost:8080/"
        },
        "id": "Ds0B3uZ0Bk9B",
        "outputId": "d7652478-b683-48f3-a7ca-a26275f78f45"
      },
      "execution_count": 37,
      "outputs": [
        {
          "output_type": "execute_result",
          "data": {
            "text/plain": [
              "LinearRegression()"
            ]
          },
          "metadata": {},
          "execution_count": 37
        }
      ]
    },
    {
      "cell_type": "code",
      "source": [
        "type(x_new)"
      ],
      "metadata": {
        "colab": {
          "base_uri": "https://localhost:8080/"
        },
        "id": "F0U-YvcFgoy3",
        "outputId": "fdb8925f-155b-41d4-e324-3832990ccb88"
      },
      "execution_count": 38,
      "outputs": [
        {
          "output_type": "execute_result",
          "data": {
            "text/plain": [
              "numpy.ndarray"
            ]
          },
          "metadata": {},
          "execution_count": 38
        }
      ]
    },
    {
      "cell_type": "code",
      "source": [
        "loaded_model"
      ],
      "metadata": {
        "colab": {
          "base_uri": "https://localhost:8080/",
          "height": 36
        },
        "id": "f7V3k7-Q_mvT",
        "outputId": "885ed86b-ea3e-47c0-c15d-fba444683f67"
      },
      "execution_count": 39,
      "outputs": [
        {
          "output_type": "execute_result",
          "data": {
            "application/vnd.google.colaboratory.intrinsic+json": {
              "type": "string"
            },
            "text/plain": [
              "'model'"
            ]
          },
          "metadata": {},
          "execution_count": 39
        }
      ]
    },
    {
      "cell_type": "code",
      "source": [
        "#NOW DOWNLOAD THE FILE (VIA JOBLIB LOADED_MODEL COMMAND ABOVE) AND \n",
        "#PUT IT INTO A FLASK APPLICATION\n",
        "#COMPLETED IN VS CODE - BUT RETURNED ERROR:AttributeError: 'str' object has no attribute 'predict'\n",
        "#related to preds = model.predict(test_np_input)\n",
        "#NO SOLUTION Available.\n"
      ],
      "metadata": {
        "id": "o_Nd3MhGpL43"
      },
      "execution_count": 40,
      "outputs": []
    },
    {
      "cell_type": "code",
      "source": [
        "#FUNCTION FOR USE IN FLASK APP:\n",
        "#Make Function to take user inputs, then produce model outputs and then\n",
        "#outputs a graph picture file (svg)\n",
        "#Function below is modularized version of all the code above, to run on Flask easier\n",
        "#NOTE: The orca executable is required to export figures as static images (colido to be used in Flask instead)\n",
        "def make_picture(training_data_filename, model, new_inp_arr,output_file): #new-inp_arr is the input as np array, output_file is name of image file\n",
        "  data = pd.read_pickle(training_data_filename) #loads raw dataframe\n",
        "  ages = data['Age']\n",
        "  data = data[ages>0]\n",
        "  ages = data['Age']\n",
        "  heights = data['Height']\n",
        "  x_new = np.array(list(range(19))).reshape(19,1)  #MAKES A LIST OF INTEGERS 0 TO 18 \n",
        "  #Make Plotly Graph\n",
        "  #RESHAPE INTO NP MATRIX\n",
        "  preds = model.predict(x_new)\n",
        "  #CREATE PLOTLY CHART WITH A LINE\n",
        "  fig = px.scatter(x=ages, y=heights,title=\"Ages v Heights\",labels={'x':'Age','y':'Height'})\n",
        "  fig.add_trace(go.Scatter(x=x_new.reshape(19),y=preds, mode='lines', name='Model'))\n",
        "  \n",
        "  new_preds = model.predict(new_inp_arr)  #Output\n",
        "  fig.add_trace(go.Scatter(x=new_inp_arr.reshape(len(new_inp_arr)),y=new_preds, name=\"New Ouptuts\", mode='markers',marker=dict(color='red', size=20,line=dict(color='red', width=1))))\n",
        "  fig.write_image('base_pic.svg', width=800)  \n",
        "  fig.show(); \n"
      ],
      "metadata": {
        "id": "ocXXOuGonNP4"
      },
      "execution_count": 41,
      "outputs": []
    },
    {
      "cell_type": "code",
      "source": [
        "#CONVERING INPUT VALUES INTO NUMPY ARRAY\n",
        "def floats_string_to_np_array(floats_str): #takes input floats_str\n",
        "  def is_float(s):\n",
        "    try:\n",
        "      float(s)\n",
        "      return True\n",
        "    except:\n",
        "      return False\n",
        "  floats = np.array([float(x) for x in floats_str.split(',') if is_float(x)]) #using python list comprehension syntax\n",
        "  return floats.reshape(len(floats),1)"
      ],
      "metadata": {
        "id": "Jq3KZ7gk-4n4"
      },
      "execution_count": 42,
      "outputs": []
    },
    {
      "cell_type": "code",
      "source": [
        "#TEST FUNCTION\n",
        "make_picture('AgesAndHeights.pkl',model, floats_string_to_np_array('1,  3,  3.2,  '),'x.svg')"
      ],
      "metadata": {
        "id": "5xmctw-BnNSn",
        "colab": {
          "base_uri": "https://localhost:8080/",
          "height": 542
        },
        "outputId": "227800d3-90af-47d8-cd41-250d59b86e02"
      },
      "execution_count": 43,
      "outputs": [
        {
          "output_type": "display_data",
          "data": {
            "text/html": [
              "<html>\n",
              "<head><meta charset=\"utf-8\" /></head>\n",
              "<body>\n",
              "    <div>\n",
              "            <script src=\"https://cdnjs.cloudflare.com/ajax/libs/mathjax/2.7.5/MathJax.js?config=TeX-AMS-MML_SVG\"></script><script type=\"text/javascript\">if (window.MathJax) {MathJax.Hub.Config({SVG: {font: \"STIX-Web\"}});}</script>\n",
              "                <script type=\"text/javascript\">window.PlotlyConfig = {MathJaxConfig: 'local'};</script>\n",
              "        <script src=\"https://cdn.plot.ly/plotly-latest.min.js\"></script>    \n",
              "            <div id=\"eb424301-7b27-4676-89c5-65c4a2b5abeb\" class=\"plotly-graph-div\" style=\"height:525px; width:100%;\"></div>\n",
              "            <script type=\"text/javascript\">\n",
              "                \n",
              "                    window.PLOTLYENV=window.PLOTLYENV || {};\n",
              "                    \n",
              "                if (document.getElementById(\"eb424301-7b27-4676-89c5-65c4a2b5abeb\")) {\n",
              "                    Plotly.newPlot(\n",
              "                        'eb424301-7b27-4676-89c5-65c4a2b5abeb',\n",
              "                        [{\"hoverlabel\": {\"namelength\": 0}, \"hovertemplate\": \"Age=%{x}<br>Height=%{y}\", \"legendgroup\": \"\", \"marker\": {\"color\": \"#636efa\", \"symbol\": \"circle\"}, \"mode\": \"markers\", \"name\": \"\", \"showlegend\": false, \"type\": \"scatter\", \"x\": [14.767873816330134, 3.1076713517926806, 7.266917014967214, 1.8151796847000568, 16.75375763212233, 5.351263070263627, 8.65571488131258, 4.205992931818387, 7.356691055541348, 1.6681781890766423, 8.296958804101257, 14.749484818021726, 15.28545214053092, 16.655341966404624, 0.8591878922479225, 8.433329991852618, 11.923861629396649, 0.7682832255446641, 11.362022540907663, 1.2959792610865637, 10.312060944157052, 17.39335272011129, 10.310030558229098, 6.237645823819146, 15.551531223270961, 2.7734642513346452, 15.597989616595418, 7.57789784291413, 2.0416570470654403, 9.906652212523257, 2.8725251472181657, 1.542319357007062, 5.462022639217886, 15.043626946933678, 5.99372596841139, 4.805291001473066, 8.949920033918836, 5.0202098458683935, 9.895552575441087, 5.20281506751851, 0.1956855835040544, 0.8921739274168923, 7.309795931984743, 10.854572296082793, 15.698764946507305, 0.8121658181275702, 15.40144746669177, 9.215999236586455, 8.985153794786697, 3.7436990638149696, 0.7519251058190364, 6.59634689654973, 9.751126830081093, 7.400945669146715, 17.327125745492236, 10.534069375945291, 15.16816596172089, 9.46971876299886, 13.546915483938882, 7.8013229390191094, 2.5191034388360367, 4.71666526014279, 10.03865950110509, 11.771254757106686, 8.537380257623587, 2.5835577078360568, 1.4380030008698512, 10.406421565420079, 16.859333323379175, 12.224651491988748, 9.514769969972079, 10.08186587226211, 8.196215267176308, 10.49687113315066, 7.2736859341792, 11.129608109471462, 1.7995937769927781, 7.789871656108959, 7.0293298525025225, 5.859180701967556, 17.343120980192833, 6.571630342923743, 15.338874260736427, 17.887851957331563, 14.274299866176817, 14.128957263342956, 11.090121111945153, 13.747867593360567, 7.323711658903526, 5.591509359604698, 2.6256058170727457, 5.519292922264258, 13.117413429777768], \"xaxis\": \"x\", \"y\": [59.627484255440905, 36.146452740444886, 46.91287845835737, 29.12565975179934, 68.17041389899816, 44.34636502739226, 47.71361294583947, 37.82994409229733, 44.79306511887925, 34.05901465899434, 46.14234544968567, 56.45678228393886, 59.87003818698533, 64.2363873620709, 34.245996432433074, 45.29759191160952, 54.75189182636372, 32.93518570708343, 51.9983700049869, 31.523500326472764, 55.704812467426514, 63.861097210924726, 52.91990510235963, 37.36102444109163, 60.23327194672566, 35.01026126326172, 59.127019311027254, 48.218468847820674, 32.562322147563314, 47.75274969209667, 36.24179871798677, 33.781758520528335, 38.28770979691895, 59.102624944746864, 43.28700253705651, 39.665424285266255, 44.95296110578905, 37.43903004904909, 52.319715368214375, 38.09928940824737, 29.508467682114567, 32.1770229138873, 42.91083707239845, 52.339572050151524, 62.64153738860418, 36.34620991034383, 62.68458016772984, 50.12874247797628, 48.01159918663291, 41.30798526124458, 31.8273468238612, 43.079024419452665, 43.03917945313444, 44.135953978002824, 65.38850138444467, 52.558743974148356, 57.54336087298846, 50.73552241825695, 56.35839211196362, 41.57647919848205, 32.302511166666385, 42.332020646759304, 49.22075916318565, 53.45369077233547, 47.80362460581466, 34.931432749251016, 29.007695669220283, 52.336935024004895, 63.38905062513939, 52.92067292795279, 51.44539695386509, 48.99409356103171, 47.33274976203938, 54.52644907063409, 46.21415636501729, 50.94870844704053, 34.24840687518276, 47.99492934931853, 41.41827568889294, 43.41211008991764, 64.30784501861878, 43.87201083591761, 60.989252739448304, 64.38621239810695, 56.3644582759043, 57.976620433447984, 53.81673812977304, 58.93595009695788, 46.85750545022212, 39.339989929943755, 32.918924839782086, 40.7041542813865, 55.17740742233581], \"yaxis\": \"y\"}, {\"mode\": \"lines\", \"name\": \"Model\", \"type\": \"scatter\", \"x\": [0, 1, 2, 3, 4, 5, 6, 7, 8, 9, 10, 11, 12, 13, 14, 15, 16, 17, 18], \"y\": [29.961857614615838, 31.963274513526468, 33.9646914124371, 35.96610831134773, 37.96752521025836, 39.96894210916899, 41.970359008079626, 43.97177590699025, 45.97319280590088, 47.97460970481151, 49.97602660372215, 51.977443502632774, 53.97886040154341, 55.980277300454034, 57.98169419936467, 59.9831110982753, 61.98452799718593, 63.98594489609656, 65.98736179500719]}, {\"marker\": {\"color\": \"red\", \"line\": {\"color\": \"red\", \"width\": 1}, \"size\": 20}, \"mode\": \"markers\", \"name\": \"New Ouptuts\", \"type\": \"scatter\", \"x\": [1.0, 3.0, 3.2], \"y\": [31.963274513526468, 35.96610831134773, 36.366391691129856]}],\n",
              "                        {\"legend\": {\"tracegroupgap\": 0}, \"template\": {\"data\": {\"bar\": [{\"error_x\": {\"color\": \"#2a3f5f\"}, \"error_y\": {\"color\": \"#2a3f5f\"}, \"marker\": {\"line\": {\"color\": \"#E5ECF6\", \"width\": 0.5}}, \"type\": \"bar\"}], \"barpolar\": [{\"marker\": {\"line\": {\"color\": \"#E5ECF6\", \"width\": 0.5}}, \"type\": \"barpolar\"}], \"carpet\": [{\"aaxis\": {\"endlinecolor\": \"#2a3f5f\", \"gridcolor\": \"white\", \"linecolor\": \"white\", \"minorgridcolor\": \"white\", \"startlinecolor\": \"#2a3f5f\"}, \"baxis\": {\"endlinecolor\": \"#2a3f5f\", \"gridcolor\": \"white\", \"linecolor\": \"white\", \"minorgridcolor\": \"white\", \"startlinecolor\": \"#2a3f5f\"}, \"type\": \"carpet\"}], \"choropleth\": [{\"colorbar\": {\"outlinewidth\": 0, \"ticks\": \"\"}, \"type\": \"choropleth\"}], \"contour\": [{\"colorbar\": {\"outlinewidth\": 0, \"ticks\": \"\"}, \"colorscale\": [[0.0, \"#0d0887\"], [0.1111111111111111, \"#46039f\"], [0.2222222222222222, \"#7201a8\"], [0.3333333333333333, \"#9c179e\"], [0.4444444444444444, \"#bd3786\"], [0.5555555555555556, \"#d8576b\"], [0.6666666666666666, \"#ed7953\"], [0.7777777777777778, \"#fb9f3a\"], [0.8888888888888888, \"#fdca26\"], [1.0, \"#f0f921\"]], \"type\": \"contour\"}], \"contourcarpet\": [{\"colorbar\": {\"outlinewidth\": 0, \"ticks\": \"\"}, \"type\": \"contourcarpet\"}], \"heatmap\": [{\"colorbar\": {\"outlinewidth\": 0, \"ticks\": \"\"}, \"colorscale\": [[0.0, \"#0d0887\"], [0.1111111111111111, \"#46039f\"], [0.2222222222222222, \"#7201a8\"], [0.3333333333333333, \"#9c179e\"], [0.4444444444444444, \"#bd3786\"], [0.5555555555555556, \"#d8576b\"], [0.6666666666666666, \"#ed7953\"], [0.7777777777777778, \"#fb9f3a\"], [0.8888888888888888, \"#fdca26\"], [1.0, \"#f0f921\"]], \"type\": \"heatmap\"}], \"heatmapgl\": [{\"colorbar\": {\"outlinewidth\": 0, \"ticks\": \"\"}, \"colorscale\": [[0.0, \"#0d0887\"], [0.1111111111111111, \"#46039f\"], [0.2222222222222222, \"#7201a8\"], [0.3333333333333333, \"#9c179e\"], [0.4444444444444444, \"#bd3786\"], [0.5555555555555556, \"#d8576b\"], [0.6666666666666666, \"#ed7953\"], [0.7777777777777778, \"#fb9f3a\"], [0.8888888888888888, \"#fdca26\"], [1.0, \"#f0f921\"]], \"type\": \"heatmapgl\"}], \"histogram\": [{\"marker\": {\"colorbar\": {\"outlinewidth\": 0, \"ticks\": \"\"}}, \"type\": \"histogram\"}], \"histogram2d\": [{\"colorbar\": {\"outlinewidth\": 0, \"ticks\": \"\"}, \"colorscale\": [[0.0, \"#0d0887\"], [0.1111111111111111, \"#46039f\"], [0.2222222222222222, \"#7201a8\"], [0.3333333333333333, \"#9c179e\"], [0.4444444444444444, \"#bd3786\"], [0.5555555555555556, \"#d8576b\"], [0.6666666666666666, \"#ed7953\"], [0.7777777777777778, \"#fb9f3a\"], [0.8888888888888888, \"#fdca26\"], [1.0, \"#f0f921\"]], \"type\": \"histogram2d\"}], \"histogram2dcontour\": [{\"colorbar\": {\"outlinewidth\": 0, \"ticks\": \"\"}, \"colorscale\": [[0.0, \"#0d0887\"], [0.1111111111111111, \"#46039f\"], [0.2222222222222222, \"#7201a8\"], [0.3333333333333333, \"#9c179e\"], [0.4444444444444444, \"#bd3786\"], [0.5555555555555556, \"#d8576b\"], [0.6666666666666666, \"#ed7953\"], [0.7777777777777778, \"#fb9f3a\"], [0.8888888888888888, \"#fdca26\"], [1.0, \"#f0f921\"]], \"type\": \"histogram2dcontour\"}], \"mesh3d\": [{\"colorbar\": {\"outlinewidth\": 0, \"ticks\": \"\"}, \"type\": \"mesh3d\"}], \"parcoords\": [{\"line\": {\"colorbar\": {\"outlinewidth\": 0, \"ticks\": \"\"}}, \"type\": \"parcoords\"}], \"pie\": [{\"automargin\": true, \"type\": \"pie\"}], \"scatter\": [{\"marker\": {\"colorbar\": {\"outlinewidth\": 0, \"ticks\": \"\"}}, \"type\": \"scatter\"}], \"scatter3d\": [{\"line\": {\"colorbar\": {\"outlinewidth\": 0, \"ticks\": \"\"}}, \"marker\": {\"colorbar\": {\"outlinewidth\": 0, \"ticks\": \"\"}}, \"type\": \"scatter3d\"}], \"scattercarpet\": [{\"marker\": {\"colorbar\": {\"outlinewidth\": 0, \"ticks\": \"\"}}, \"type\": \"scattercarpet\"}], \"scattergeo\": [{\"marker\": {\"colorbar\": {\"outlinewidth\": 0, \"ticks\": \"\"}}, \"type\": \"scattergeo\"}], \"scattergl\": [{\"marker\": {\"colorbar\": {\"outlinewidth\": 0, \"ticks\": \"\"}}, \"type\": \"scattergl\"}], \"scattermapbox\": [{\"marker\": {\"colorbar\": {\"outlinewidth\": 0, \"ticks\": \"\"}}, \"type\": \"scattermapbox\"}], \"scatterpolar\": [{\"marker\": {\"colorbar\": {\"outlinewidth\": 0, \"ticks\": \"\"}}, \"type\": \"scatterpolar\"}], \"scatterpolargl\": [{\"marker\": {\"colorbar\": {\"outlinewidth\": 0, \"ticks\": \"\"}}, \"type\": \"scatterpolargl\"}], \"scatterternary\": [{\"marker\": {\"colorbar\": {\"outlinewidth\": 0, \"ticks\": \"\"}}, \"type\": \"scatterternary\"}], \"surface\": [{\"colorbar\": {\"outlinewidth\": 0, \"ticks\": \"\"}, \"colorscale\": [[0.0, \"#0d0887\"], [0.1111111111111111, \"#46039f\"], [0.2222222222222222, \"#7201a8\"], [0.3333333333333333, \"#9c179e\"], [0.4444444444444444, \"#bd3786\"], [0.5555555555555556, \"#d8576b\"], [0.6666666666666666, \"#ed7953\"], [0.7777777777777778, \"#fb9f3a\"], [0.8888888888888888, \"#fdca26\"], [1.0, \"#f0f921\"]], \"type\": \"surface\"}], \"table\": [{\"cells\": {\"fill\": {\"color\": \"#EBF0F8\"}, \"line\": {\"color\": \"white\"}}, \"header\": {\"fill\": {\"color\": \"#C8D4E3\"}, \"line\": {\"color\": \"white\"}}, \"type\": \"table\"}]}, \"layout\": {\"annotationdefaults\": {\"arrowcolor\": \"#2a3f5f\", \"arrowhead\": 0, \"arrowwidth\": 1}, \"coloraxis\": {\"colorbar\": {\"outlinewidth\": 0, \"ticks\": \"\"}}, \"colorscale\": {\"diverging\": [[0, \"#8e0152\"], [0.1, \"#c51b7d\"], [0.2, \"#de77ae\"], [0.3, \"#f1b6da\"], [0.4, \"#fde0ef\"], [0.5, \"#f7f7f7\"], [0.6, \"#e6f5d0\"], [0.7, \"#b8e186\"], [0.8, \"#7fbc41\"], [0.9, \"#4d9221\"], [1, \"#276419\"]], \"sequential\": [[0.0, \"#0d0887\"], [0.1111111111111111, \"#46039f\"], [0.2222222222222222, \"#7201a8\"], [0.3333333333333333, \"#9c179e\"], [0.4444444444444444, \"#bd3786\"], [0.5555555555555556, \"#d8576b\"], [0.6666666666666666, \"#ed7953\"], [0.7777777777777778, \"#fb9f3a\"], [0.8888888888888888, \"#fdca26\"], [1.0, \"#f0f921\"]], \"sequentialminus\": [[0.0, \"#0d0887\"], [0.1111111111111111, \"#46039f\"], [0.2222222222222222, \"#7201a8\"], [0.3333333333333333, \"#9c179e\"], [0.4444444444444444, \"#bd3786\"], [0.5555555555555556, \"#d8576b\"], [0.6666666666666666, \"#ed7953\"], [0.7777777777777778, \"#fb9f3a\"], [0.8888888888888888, \"#fdca26\"], [1.0, \"#f0f921\"]]}, \"colorway\": [\"#636efa\", \"#EF553B\", \"#00cc96\", \"#ab63fa\", \"#FFA15A\", \"#19d3f3\", \"#FF6692\", \"#B6E880\", \"#FF97FF\", \"#FECB52\"], \"font\": {\"color\": \"#2a3f5f\"}, \"geo\": {\"bgcolor\": \"white\", \"lakecolor\": \"white\", \"landcolor\": \"#E5ECF6\", \"showlakes\": true, \"showland\": true, \"subunitcolor\": \"white\"}, \"hoverlabel\": {\"align\": \"left\"}, \"hovermode\": \"closest\", \"mapbox\": {\"style\": \"light\"}, \"paper_bgcolor\": \"white\", \"plot_bgcolor\": \"#E5ECF6\", \"polar\": {\"angularaxis\": {\"gridcolor\": \"white\", \"linecolor\": \"white\", \"ticks\": \"\"}, \"bgcolor\": \"#E5ECF6\", \"radialaxis\": {\"gridcolor\": \"white\", \"linecolor\": \"white\", \"ticks\": \"\"}}, \"scene\": {\"xaxis\": {\"backgroundcolor\": \"#E5ECF6\", \"gridcolor\": \"white\", \"gridwidth\": 2, \"linecolor\": \"white\", \"showbackground\": true, \"ticks\": \"\", \"zerolinecolor\": \"white\"}, \"yaxis\": {\"backgroundcolor\": \"#E5ECF6\", \"gridcolor\": \"white\", \"gridwidth\": 2, \"linecolor\": \"white\", \"showbackground\": true, \"ticks\": \"\", \"zerolinecolor\": \"white\"}, \"zaxis\": {\"backgroundcolor\": \"#E5ECF6\", \"gridcolor\": \"white\", \"gridwidth\": 2, \"linecolor\": \"white\", \"showbackground\": true, \"ticks\": \"\", \"zerolinecolor\": \"white\"}}, \"shapedefaults\": {\"line\": {\"color\": \"#2a3f5f\"}}, \"ternary\": {\"aaxis\": {\"gridcolor\": \"white\", \"linecolor\": \"white\", \"ticks\": \"\"}, \"baxis\": {\"gridcolor\": \"white\", \"linecolor\": \"white\", \"ticks\": \"\"}, \"bgcolor\": \"#E5ECF6\", \"caxis\": {\"gridcolor\": \"white\", \"linecolor\": \"white\", \"ticks\": \"\"}}, \"title\": {\"x\": 0.05}, \"xaxis\": {\"automargin\": true, \"gridcolor\": \"white\", \"linecolor\": \"white\", \"ticks\": \"\", \"title\": {\"standoff\": 15}, \"zerolinecolor\": \"white\", \"zerolinewidth\": 2}, \"yaxis\": {\"automargin\": true, \"gridcolor\": \"white\", \"linecolor\": \"white\", \"ticks\": \"\", \"title\": {\"standoff\": 15}, \"zerolinecolor\": \"white\", \"zerolinewidth\": 2}}}, \"title\": {\"text\": \"Ages v Heights\"}, \"xaxis\": {\"anchor\": \"y\", \"domain\": [0.0, 1.0], \"title\": {\"text\": \"Age\"}}, \"yaxis\": {\"anchor\": \"x\", \"domain\": [0.0, 1.0], \"title\": {\"text\": \"Height\"}}},\n",
              "                        {\"responsive\": true}\n",
              "                    ).then(function(){\n",
              "                            \n",
              "var gd = document.getElementById('eb424301-7b27-4676-89c5-65c4a2b5abeb');\n",
              "var x = new MutationObserver(function (mutations, observer) {{\n",
              "        var display = window.getComputedStyle(gd).display;\n",
              "        if (!display || display === 'none') {{\n",
              "            console.log([gd, 'removed!']);\n",
              "            Plotly.purge(gd);\n",
              "            observer.disconnect();\n",
              "        }}\n",
              "}});\n",
              "\n",
              "// Listen for the removal of the full notebook cells\n",
              "var notebookContainer = gd.closest('#notebook-container');\n",
              "if (notebookContainer) {{\n",
              "    x.observe(notebookContainer, {childList: true});\n",
              "}}\n",
              "\n",
              "// Listen for the clearing of the current output cell\n",
              "var outputEl = gd.closest('.output');\n",
              "if (outputEl) {{\n",
              "    x.observe(outputEl, {childList: true});\n",
              "}}\n",
              "\n",
              "                        })\n",
              "                };\n",
              "                \n",
              "            </script>\n",
              "        </div>\n",
              "</body>\n",
              "</html>"
            ]
          },
          "metadata": {}
        }
      ]
    },
    {
      "cell_type": "code",
      "source": [
        ""
      ],
      "metadata": {
        "id": "uxoxe5qZnNXz"
      },
      "execution_count": 43,
      "outputs": []
    },
    {
      "cell_type": "code",
      "source": [
        "#TEST ABOVE FUNCTION - Should return all inputs as floats, in a numpy array.\n",
        "floats_string_to_np_array('1,  3,  3.2,  ')  #Enter some spaces and other junk to test if code above cleans it"
      ],
      "metadata": {
        "id": "Hs06UotPnNaJ",
        "colab": {
          "base_uri": "https://localhost:8080/"
        },
        "outputId": "22e4c18f-7d0d-46fe-d32a-fdf4c73292e3"
      },
      "execution_count": 44,
      "outputs": [
        {
          "output_type": "execute_result",
          "data": {
            "text/plain": [
              "array([[1. ],\n",
              "       [3. ],\n",
              "       [3.2]])"
            ]
          },
          "metadata": {},
          "execution_count": 44
        }
      ]
    },
    {
      "cell_type": "code",
      "source": [
        ""
      ],
      "metadata": {
        "id": "585GBX1ZG9qa"
      },
      "execution_count": 44,
      "outputs": []
    },
    {
      "cell_type": "code",
      "source": [
        ""
      ],
      "metadata": {
        "id": "NRqZUoBFG9tU"
      },
      "execution_count": 44,
      "outputs": []
    }
  ]
}